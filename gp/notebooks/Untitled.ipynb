{
 "cells": [
  {
   "cell_type": "code",
   "execution_count": 6,
   "metadata": {},
   "outputs": [],
   "source": [
    "import sys, os, time\n",
    "import json\n",
    "\n",
    "import numpy as np\n",
    "import pymc3 as pm"
   ]
  },
  {
   "cell_type": "code",
   "execution_count": 5,
   "metadata": {},
   "outputs": [
    {
     "name": "stdout",
     "output_type": "stream",
     "text": [
      "(400, 400)\n"
     ]
    }
   ],
   "source": [
    "p = np.load('p1903221634.npy')\n",
    "print(p.shape)"
   ]
  },
  {
   "cell_type": "code",
   "execution_count": 7,
   "metadata": {},
   "outputs": [],
   "source": [
    "with open('params1903221634.json', 'r') as jfp:\n",
    "    params = json.load(jfp)"
   ]
  },
  {
   "cell_type": "code",
   "execution_count": 13,
   "metadata": {},
   "outputs": [
    {
     "name": "stdout",
     "output_type": "stream",
     "text": [
      "IS_HEATMAP_DYN\tT\t_x_shape\t_y_shape\tdt\tdynheatmap_log_file\texp_description\texp_id\texp_name\texp_results_dir\texp_str\theatmap_log_file\thistory_log_file\thmax\thmin\titer_steps\tmax_search_steps\tnum_humans\tnum_iter\tnum_searchers\tparam_log_file\trandom_motion_init\trandom_pos\tres\tsave_terrain\tsweep_bounds\tsx\tterrainType\ttime_str\ttqdm\txlims\txmax\txmin\tylims\tymax\tymin\tzlims\n"
     ]
    }
   ],
   "source": [
    "print( '\\t'.join( list(params.keys()) ) )"
   ]
  },
  {
   "cell_type": "code",
   "execution_count": null,
   "metadata": {},
   "outputs": [],
   "source": []
  }
 ],
 "metadata": {
  "kernelspec": {
   "display_name": "Python 3",
   "language": "python",
   "name": "python3"
  },
  "language_info": {
   "codemirror_mode": {
    "name": "ipython",
    "version": 3
   },
   "file_extension": ".py",
   "mimetype": "text/x-python",
   "name": "python",
   "nbconvert_exporter": "python",
   "pygments_lexer": "ipython3",
   "version": "3.6.8"
  }
 },
 "nbformat": 4,
 "nbformat_minor": 2
}
