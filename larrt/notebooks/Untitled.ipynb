{
 "cells": [
  {
   "cell_type": "code",
   "execution_count": 1,
   "metadata": {},
   "outputs": [],
   "source": [
    "import sys, os, time\n",
    "up1 = os.path.abspath('..')\n",
    "sys.path.insert(0, up1)"
   ]
  },
  {
   "cell_type": "code",
   "execution_count": 2,
   "metadata": {},
   "outputs": [
    {
     "name": "stdout",
     "output_type": "stream",
     "text": [
      "['/home/bgavin/repos/dynamic-rrt', '', '/opt/ros/melodic/lib/python2.7/dist-packages', '/home/bgavin/anaconda3/envs/sar/lib/python35.zip', '/home/bgavin/anaconda3/envs/sar/lib/python3.5', '/home/bgavin/anaconda3/envs/sar/lib/python3.5/plat-linux', '/home/bgavin/anaconda3/envs/sar/lib/python3.5/lib-dynload', '/home/bgavin/anaconda3/envs/sar/lib/python3.5/site-packages', '/home/bgavin/repos/pykdtree', '/home/bgavin/anaconda3/envs/sar/lib/python3.5/site-packages/IPython/extensions', '/home/bgavin/.ipython']\n"
     ]
    }
   ],
   "source": [
    "print(sys.path)"
   ]
  },
  {
   "cell_type": "code",
   "execution_count": 3,
   "metadata": {},
   "outputs": [],
   "source": [
    "import larrt"
   ]
  },
  {
   "cell_type": "code",
   "execution_count": 4,
   "metadata": {},
   "outputs": [
    {
     "name": "stdout",
     "output_type": "stream",
     "text": [
      "LARRT\n"
     ]
    }
   ],
   "source": [
    "rrt = larrt.LARRT()"
   ]
  },
  {
   "cell_type": "code",
   "execution_count": null,
   "metadata": {},
   "outputs": [],
   "source": []
  }
 ],
 "metadata": {
  "kernelspec": {
   "display_name": "Python [conda env:sar]",
   "language": "python",
   "name": "conda-env-sar-py"
  },
  "language_info": {
   "codemirror_mode": {
    "name": "ipython",
    "version": 3
   },
   "file_extension": ".py",
   "mimetype": "text/x-python",
   "name": "python",
   "nbconvert_exporter": "python",
   "pygments_lexer": "ipython3",
   "version": "3.5.6"
  }
 },
 "nbformat": 4,
 "nbformat_minor": 2
}
