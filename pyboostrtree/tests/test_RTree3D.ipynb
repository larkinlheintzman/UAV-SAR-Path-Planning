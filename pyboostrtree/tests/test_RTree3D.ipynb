{
 "cells": [
  {
   "cell_type": "markdown",
   "metadata": {},
   "source": [
    "Let's begin by import dependencies"
   ]
  },
  {
   "cell_type": "code",
   "execution_count": 1,
   "metadata": {},
   "outputs": [],
   "source": [
    "import numpy as np\n",
    "import boostrtrees as brt"
   ]
  },
  {
   "cell_type": "markdown",
   "metadata": {},
   "source": [
    "Now let's instantiate the **RTree3D** object"
   ]
  },
  {
   "cell_type": "code",
   "execution_count": 2,
   "metadata": {},
   "outputs": [],
   "source": [
    "rt3 = brt.RTree3D()"
   ]
  },
  {
   "cell_type": "markdown",
   "metadata": {},
   "source": [
    "We'll create a set of points we'll be using to test the RTree as Python tuples. For simplicity I'm going to add three corners of a **10x10x10** cube"
   ]
  },
  {
   "cell_type": "code",
   "execution_count": 3,
   "metadata": {},
   "outputs": [],
   "source": [
    "cube_corners = [(5.0, 5.0, 5.0), (5.0, 5.0, -5.0), (5.0, -5.0, 5.0)]"
   ]
  },
  {
   "cell_type": "markdown",
   "metadata": {},
   "source": [
    "Let us insert these points into the R-Tree"
   ]
  },
  {
   "cell_type": "code",
   "execution_count": 4,
   "metadata": {},
   "outputs": [],
   "source": [
    "for index, corner in enumerate(cube_corners):\n",
    "    rt3.insert_point(x=corner[0], y=corner[1], z=corner[2], value=index)"
   ]
  },
  {
   "cell_type": "markdown",
   "metadata": {},
   "source": [
    "We can verify that the points have been inserted by checking the `size()`"
   ]
  },
  {
   "cell_type": "code",
   "execution_count": 5,
   "metadata": {},
   "outputs": [
    {
     "data": {
      "text/plain": [
       "3"
      ]
     },
     "execution_count": 5,
     "metadata": {},
     "output_type": "execute_result"
    }
   ],
   "source": [
    "rt3.size()"
   ]
  },
  {
   "cell_type": "markdown",
   "metadata": {},
   "source": [
    "You can also insert points into the RTree in the form of a 2-dimensional NumPy array of shape **(N, 4)**, where N is the number of points being added.\n",
    "\n",
    "For example,"
   ]
  },
  {
   "cell_type": "code",
   "execution_count": 6,
   "metadata": {},
   "outputs": [
    {
     "name": "stdout",
     "output_type": "stream",
     "text": [
      "[[ 5. -5. -5.  3.]\n",
      " [-5.  5.  5.  4.]\n",
      " [-5.  5. -5.  5.]\n",
      " [-5. -5.  5.  6.]\n",
      " [-5. -5. -5.  7.]]\n"
     ]
    }
   ],
   "source": [
    "other_corners = [(5.0, -5.0, -5.0),\\\n",
    "                 (-5.0, 5.0, 5.0), \\\n",
    "                 (-5.0, 5.0, -5.0),\\\n",
    "                 (-5.0, -5.0, 5.0),\\\n",
    "                 (-5.0, -5.0, -5.0)]\n",
    "\n",
    "other_corners_np = np.array([ _tc + tuple([index+len(cube_corners)]) for index, _tc in enumerate(other_corners) ])\n",
    "print(other_corners_np)"
   ]
  },
  {
   "cell_type": "code",
   "execution_count": 7,
   "metadata": {},
   "outputs": [],
   "source": [
    "rt3.insert_points(other_corners_np)"
   ]
  },
  {
   "cell_type": "code",
   "execution_count": 8,
   "metadata": {},
   "outputs": [
    {
     "data": {
      "text/plain": [
       "8"
      ]
     },
     "execution_count": 8,
     "metadata": {},
     "output_type": "execute_result"
    }
   ],
   "source": [
    "rt3.size()"
   ]
  },
  {
   "cell_type": "markdown",
   "metadata": {},
   "source": [
    "Now, we have added all 8 corners of the 10x10x10 cube into our 3-dimensional R-Tree!\n",
    "\n",
    "Let's check to see if the RTree works as expected :)"
   ]
  },
  {
   "cell_type": "markdown",
   "metadata": {},
   "source": [
    "### Nearest Neighbor queries\n",
    "\n",
    "Fast Nearest neighbor queries are about the most useful feature of RTrees. Let's see if we can find the **2 nearest neighbors** of the point **(5.0, 4.0, 0.0)**.\n",
    "\n",
    "If this works corectly, we expect it to return the indices of **(5.0, 5.0, 5.0)** and **(5.0, 5.0, -5.0)**, which are 0 and 1"
   ]
  },
  {
   "cell_type": "code",
   "execution_count": 9,
   "metadata": {},
   "outputs": [
    {
     "data": {
      "text/plain": [
       "[0, 1]"
      ]
     },
     "execution_count": 9,
     "metadata": {},
     "output_type": "execute_result"
    }
   ],
   "source": [
    "rt3.knn(x=5.0, y=5.0, z=5.0, k=2)"
   ]
  },
  {
   "cell_type": "markdown",
   "metadata": {},
   "source": [
    "... and Bingo!"
   ]
  },
  {
   "cell_type": "markdown",
   "metadata": {},
   "source": [
    "Now, because we all love NumPy so much, we added a function that accepts coordinates as a NumPy array."
   ]
  },
  {
   "cell_type": "markdown",
   "metadata": {},
   "source": [
    "### Bounds\n",
    "\n",
    "This is how you get the minimum enclosing bounding box _in 3D_ of the points"
   ]
  },
  {
   "cell_type": "code",
   "execution_count": 10,
   "metadata": {},
   "outputs": [
    {
     "name": "stdout",
     "output_type": "stream",
     "text": [
      "{'min_x': -5.0, 'max_x': 5.0, 'min_y': -5.0, 'max_y': 5.0, 'min_z': -5.0, 'max_z': 5.0}\n"
     ]
    }
   ],
   "source": [
    "bounds = rt3.bounds()\n",
    "print(bounds)"
   ]
  },
  {
   "cell_type": "markdown",
   "metadata": {},
   "source": [
    "So what happens to the bounding box if we add a point outside the **10x10x10** cube?"
   ]
  },
  {
   "cell_type": "code",
   "execution_count": 11,
   "metadata": {},
   "outputs": [],
   "source": [
    "rt3.insert_point(x=6.0, y=6.0, z=6.0, value=rt3.size())"
   ]
  },
  {
   "cell_type": "code",
   "execution_count": 12,
   "metadata": {},
   "outputs": [
    {
     "name": "stdout",
     "output_type": "stream",
     "text": [
      "{'min_x': -5.0, 'max_x': 6.0, 'min_y': -5.0, 'max_y': 6.0, 'min_z': -5.0, 'max_z': 6.0}\n"
     ]
    }
   ],
   "source": [
    "bounds = rt3.bounds()\n",
    "print(bounds)"
   ]
  },
  {
   "cell_type": "markdown",
   "metadata": {},
   "source": [
    "As you would expect, the 3D bounding box expands to include that point!"
   ]
  },
  {
   "cell_type": "markdown",
   "metadata": {},
   "source": [
    "### Intersection\n",
    "Get points inersecting a cuboid _(enclosed by the 3D bounding box)_\n",
    "\n",
    "**Note:** The coordinates are non-interleaved i.e of the form (min_x, min_y, min_z, max_x, max_y, max_z)\n",
    "\n",
    "Let's try to get all points within the box between these two corner points: **(4.0, 4.0, 4.0)** and **(7.0, 7.0, 7.0)**"
   ]
  },
  {
   "cell_type": "code",
   "execution_count": 14,
   "metadata": {},
   "outputs": [
    {
     "data": {
      "text/plain": [
       "[8, 0]"
      ]
     },
     "execution_count": 14,
     "metadata": {},
     "output_type": "execute_result"
    }
   ],
   "source": [
    "min_point = (4.0, 4.0, 4.0)\n",
    "max_point = (7.0, 7.0, 7.0)\n",
    "\n",
    "rt3.intersection(np.array([min_point, max_point]))"
   ]
  },
  {
   "cell_type": "code",
   "execution_count": null,
   "metadata": {},
   "outputs": [],
   "source": []
  }
 ],
 "metadata": {
  "kernelspec": {
   "display_name": "Python 3",
   "language": "python",
   "name": "python3"
  },
  "language_info": {
   "codemirror_mode": {
    "name": "ipython",
    "version": 3
   },
   "file_extension": ".py",
   "mimetype": "text/x-python",
   "name": "python",
   "nbconvert_exporter": "python",
   "pygments_lexer": "ipython3",
   "version": "3.6.8"
  }
 },
 "nbformat": 4,
 "nbformat_minor": 2
}
